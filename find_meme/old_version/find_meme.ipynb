{
 "cells": [
  {
   "cell_type": "markdown",
   "id": "14003edd",
   "metadata": {},
   "source": [
    "# Find Meme"
   ]
  },
  {
   "cell_type": "markdown",
   "id": "699fa416",
   "metadata": {},
   "source": [
    "## 0. preprocessing"
   ]
  },
  {
   "cell_type": "code",
   "execution_count": 1,
   "id": "efb1da6c",
   "metadata": {},
   "outputs": [],
   "source": [
    "from dotenv import load_dotenv\n",
    "import os\n",
    "load_dotenv()\n",
    "\n",
    "CHAT_MODEL=\"deepseek-v3\"\n",
    "openai_api_key = os.environ.get(\"INFINITE_API_KEY\")\n",
    "openai_base_url = os.environ.get(\"INFINITE_BASE_URL\")\n",
    "\n",
    "from openai import OpenAI\n",
    "client = OpenAI(api_key=openai_api_key, base_url=openai_base_url)\n",
    "\n",
    "def get_response(prompt): \n",
    "    response = client.chat.completions.create(\n",
    "        model=CHAT_MODEL,\n",
    "        messages=[{\"role\": \"user\", \"content\": prompt},]\n",
    "    )\n",
    "    return response.choices[0].message.content\n",
    "\n",
    "def show_results(docs):\n",
    "    for result in docs:\n",
    "        print(result)\n",
    "        cur_path = os.path.join(result.metadata['path'], result.page_content)\n",
    "        with Image.open(cur_path) as img:\n",
    "            img.show()\n",
    "\n"
   ]
  },
  {
   "cell_type": "code",
   "execution_count": 2,
   "id": "e1438c35",
   "metadata": {},
   "outputs": [],
   "source": [
    "from langchain_openai import OpenAIEmbeddings\n",
    "baai_embedding = OpenAIEmbeddings(\n",
    "    model=\"BAAI/bge-m3\",\n",
    "    base_url=os.environ.get(\"SF_BASE_URL\"),\n",
    "    api_key=os.environ.get(\"SF_API_KEY\"),\n",
    ")"
   ]
  },
  {
   "cell_type": "code",
   "execution_count": null,
   "id": "3de23095",
   "metadata": {},
   "outputs": [],
   "source": [
    "# test\n",
    "\n",
    "baai_embedding.embed_query(\"I am Alice.\") # test the embedding"
   ]
  },
  {
   "cell_type": "markdown",
   "id": "1c181398",
   "metadata": {},
   "source": [
    "## 1. embed data"
   ]
  },
  {
   "cell_type": "code",
   "execution_count": 3,
   "id": "de988194",
   "metadata": {},
   "outputs": [],
   "source": [
    "# chromaDB setting\n",
    "\n",
    "from langchain_chroma import Chroma\n",
    "\n",
    "picture_paths = \"../src/output/vv\"\n",
    "chroma_dir = \"tmp/chroma_db\"\n",
    "docsearch_chroma = Chroma(\n",
    "    embedding_function=baai_embedding,\n",
    "    persist_directory=chroma_dir,\n",
    "    collection_name=\"memes\",\n",
    ")\n"
   ]
  },
  {
   "cell_type": "code",
   "execution_count": 5,
   "id": "5f1678f7",
   "metadata": {},
   "outputs": [],
   "source": [
    "from langchain_core.documents import Document\n",
    "titles = []\n",
    "paths = []\n",
    "documents = []\n",
    "cnt = 0\n",
    "\n",
    "for filepath, dirnames, filenames in os.walk(picture_paths):\n",
    "    for filename in filenames:\n",
    "        titles.append(filename)\n",
    "        paths.append(filepath)\n",
    "        doc = Document(page_content=filename, metadata={'path': filepath, 'id': str(cnt)})\n",
    "        documents.append(doc)\n",
    "        cnt += 1\n",
    "\n",
    "docsearch_chroma.reset_collection()\n",
    "for i in range(0,len(documents),64):\n",
    "    docsearch_chroma.add_documents(documents[i:i+64])\n"
   ]
  },
  {
   "cell_type": "code",
   "execution_count": null,
   "id": "e380ae03",
   "metadata": {},
   "outputs": [],
   "source": [
    "# simple query\n",
    "query = \"如何评价原神\"\n",
    "docs = docsearch_chroma.similarity_search(query, k=6)\n",
    "from PIL import Image\n",
    "\n",
    "\n",
    "\n",
    "show_results(docs)"
   ]
  },
  {
   "cell_type": "code",
   "execution_count": null,
   "id": "c0dc2e2a",
   "metadata": {},
   "outputs": [],
   "source": [
    "query = \"如何评价原神\"\n",
    "\n",
    "prompt = f\"\"\"\n",
    "    你是一个文字生成器。我将会给你一段文本，你需要根据它生成一些与这段文本相关的句子。你可以使用以下方法：\n",
    "    \n",
    "    1. 你可以就文本中出现的概念进行进一步解释，或者给出文本中出现的事物的更多细节。你可以进行网络搜索。 \n",
    "    \n",
    "    2. 你可以给出或分析文本中提到的事物产生的原因；你可以从若干个不同的角度、立场分析原因。\n",
    "    \n",
    "    3. 你可以给出一些应对文本中提到的事物的对策。你可以从若干个不同的事物参与主体出发，给出可能得应对策略。\n",
    "    \n",
    "    4. 你可以就一些文本中提到的观点或者事物进行评论或者评价。你可以从若干个不同的角度、立场（如支持、反对、中立）进行评价。\n",
    "    \n",
    "    ########## \n",
    "    \n",
    "    文本：{query}\n",
    "    \n",
    "    ##########\n",
    "    \n",
    "    格式要求：\n",
    "    \n",
    "    1. 仅返回一系列句子，一句一行。\n",
    "    \n",
    "    2. 句子的总数量大概在10左右。\n",
    "\"\"\"\n",
    "\n",
    "response = get_response(prompt)\n",
    "responses = response.split('\\n')\n",
    "print(responses)\n",
    "\n",
    "for text in responses:\n",
    "    docs = docsearch_chroma.similarity_search(text, k=1)\n",
    "    show_results(docs)\n",
    "\n"
   ]
  }
 ],
 "metadata": {
  "kernelspec": {
   "display_name": "Python 3",
   "language": "python",
   "name": "python3"
  },
  "language_info": {
   "codemirror_mode": {
    "name": "ipython",
    "version": 3
   },
   "file_extension": ".py",
   "mimetype": "text/x-python",
   "name": "python",
   "nbconvert_exporter": "python",
   "pygments_lexer": "ipython3",
   "version": "3.10.12"
  }
 },
 "nbformat": 4,
 "nbformat_minor": 5
}
