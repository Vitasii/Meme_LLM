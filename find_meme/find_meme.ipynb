{
 "cells": [
  {
   "cell_type": "markdown",
   "id": "14003edd",
   "metadata": {},
   "source": [
    "# Find Meme"
   ]
  },
  {
   "cell_type": "markdown",
   "id": "699fa416",
   "metadata": {},
   "source": [
    "## 0. preprocessing"
   ]
  },
  {
   "cell_type": "code",
   "execution_count": 1,
   "id": "efb1da6c",
   "metadata": {},
   "outputs": [],
   "source": [
    "from dotenv import load_dotenv\n",
    "import os\n",
    "load_dotenv()\n",
    "\n",
    "CHAT_MODEL=\"deepseek-v3\"\n",
    "os.environ[\"OPENAI_API_KEY\"]=os.environ.get(\"INFINITE_API_KEY\") \n",
    "os.environ[\"OPENAI_BASE_URL\"]=os.environ.get(\"INFINITE_BASE_URL\")"
   ]
  },
  {
   "cell_type": "code",
   "execution_count": 2,
   "id": "e1438c35",
   "metadata": {},
   "outputs": [],
   "source": [
    "from langchain_openai import OpenAIEmbeddings\n",
    "baai_embedding = OpenAIEmbeddings(\n",
    "    model=\"BAAI/bge-m3\",\n",
    "    base_url=os.environ.get(\"SF_BASE_URL\"),\n",
    "    api_key=os.environ.get(\"SF_API_KEY\"),\n",
    ")"
   ]
  },
  {
   "cell_type": "code",
   "execution_count": null,
   "id": "3de23095",
   "metadata": {},
   "outputs": [],
   "source": [
    "# test\n",
    "\n",
    "baai_embedding.embed_query(\"I am Alice.\") # test the embedding"
   ]
  },
  {
   "cell_type": "markdown",
   "id": "1c181398",
   "metadata": {},
   "source": [
    "## 1. embed data"
   ]
  },
  {
   "cell_type": "code",
   "execution_count": 4,
   "id": "de988194",
   "metadata": {},
   "outputs": [],
   "source": [
    "# chromaDB setting\n",
    "\n",
    "from langchain_chroma import Chroma\n",
    "\n",
    "picture_paths = \"../src/output/vv\"\n",
    "chroma_dir = \"/scratch1/chroma_db\"\n",
    "docsearch_chroma = Chroma(\n",
    "    embedding_function=baai_embedding,\n",
    "    persist_directory=chroma_dir,\n",
    "    collection_name=\"memes\",\n",
    ")\n"
   ]
  },
  {
   "cell_type": "code",
   "execution_count": 5,
   "id": "5f1678f7",
   "metadata": {},
   "outputs": [],
   "source": [
    "from langchain_core.documents import Document\n",
    "titles = []\n",
    "paths = []\n",
    "documents = []\n",
    "cnt = 0\n",
    "\n",
    "for filepath, dirnames, filenames in os.walk(picture_paths):\n",
    "    for filename in filenames:\n",
    "        titles.append(filename)\n",
    "        paths.append(filepath)\n",
    "        doc = Document(page_content=filename, metadata={'path': filepath, 'id': str(cnt)})\n",
    "        documents.append(doc)\n",
    "        cnt += 1\n",
    "\n",
    "docsearch_chroma.reset_collection()\n",
    "for i in range(0,len(documents),64):\n",
    "    docsearch_chroma.add_documents(documents[i:i+64])\n"
   ]
  },
  {
   "cell_type": "code",
   "execution_count": null,
   "id": "e380ae03",
   "metadata": {},
   "outputs": [],
   "source": [
    "query = \"如何评价原神\"\n",
    "docs = docsearch_chroma.similarity_search(query, k=6)\n",
    "from PIL import Image\n",
    "\n",
    "\n",
    "    \n",
    "for result in docs:\n",
    "    print(result)\n",
    "    cur_path = os.path.join(result.metadata['path'], result.page_content)\n",
    "    with Image.open(cur_path) as img:\n",
    "        img.show()"
   ]
  }
 ],
 "metadata": {
  "kernelspec": {
   "display_name": "Python 3",
   "language": "python",
   "name": "python3"
  },
  "language_info": {
   "codemirror_mode": {
    "name": "ipython",
    "version": 3
   },
   "file_extension": ".py",
   "mimetype": "text/x-python",
   "name": "python",
   "nbconvert_exporter": "python",
   "pygments_lexer": "ipython3",
   "version": "3.10.12"
  }
 },
 "nbformat": 4,
 "nbformat_minor": 5
}
