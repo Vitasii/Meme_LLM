{
 "cells": [
  {
   "cell_type": "code",
   "execution_count": 112,
   "id": "5a971f51",
   "metadata": {},
   "outputs": [],
   "source": [
    "DATA_FOLDER = \"data\"\n",
    "PIC_TMP = \"tmp\"\n",
    "OUT_FOLDER = \"better_output\""
   ]
  },
  {
   "cell_type": "code",
   "execution_count": 113,
   "id": "1e2807c6",
   "metadata": {},
   "outputs": [],
   "source": [
    "from moviepy import VideoFileClip\n"
   ]
  },
  {
   "cell_type": "code",
   "execution_count": 122,
   "id": "09cb61f2",
   "metadata": {},
   "outputs": [],
   "source": [
    "\n",
    "def save_frame(video_path, time_arr, output_path, name):\n",
    "    with VideoFileClip(video_path) as clip:\n",
    "        cnt = 0\n",
    "        for time in time_arr:\n",
    "            cnt += 1\n",
    "            try: \n",
    "                frame = clip.get_frame(time)\n",
    "                from PIL import Image\n",
    "                image = Image.fromarray(frame)\n",
    "                image.save(output_path+\"/\"+name+\"_\"+str(cnt)+\".jpg\")\n",
    "                print(\"Saved as \" +output_path+\"/\"+name+\"_\"+str(cnt)+\".jpg\")\n",
    "            except Exception as e:\n",
    "                print(f\"skip: {e}\")\n"
   ]
  },
  {
   "cell_type": "code",
   "execution_count": 115,
   "id": "2f81f72b",
   "metadata": {},
   "outputs": [],
   "source": [
    "import os\n",
    "\n",
    "def folder_to_files(folder_path, suffix):\n",
    "    files = [f for f in os.listdir(folder_path) if f.endswith(suffix)]\n",
    "    return files"
   ]
  },
  {
   "cell_type": "code",
   "execution_count": 116,
   "id": "3d300df1",
   "metadata": {},
   "outputs": [],
   "source": [
    "def better_clip(arr):\n",
    "    cut = [0,0.2,0.4,0.5,0.6,0.8,1]\n",
    "    aug1 = [-1,-0.5]\n",
    "    aug2 = [0.5,1]\n",
    "    dic = {\"data\":\"\",\"cut\":[]}\n",
    "    dic[\"data\"] = arr[2]\n",
    "    begin = arr[0]\n",
    "    end = arr[1]\n",
    "    d = end - begin\n",
    "    for i in cut:\n",
    "        dic[\"cut\"].append(round(begin+d*i,2))\n",
    "    for i in aug1:\n",
    "        dic[\"cut\"].append(round(begin+i,2))\n",
    "    for i in aug2:\n",
    "        dic[\"cut\"].append(round(end+i,2))\n",
    "    return dic  "
   ]
  },
  {
   "cell_type": "code",
   "execution_count": 117,
   "id": "d13450f8",
   "metadata": {},
   "outputs": [],
   "source": [
    "###Get time data###\n",
    "from pathlib import Path\n",
    "import json\n",
    "\n",
    "subtitle_file_names = folder_to_files(DATA_FOLDER,\".json\")\n",
    "# print(subtitle_file_names)\n",
    "total_clip = []\n",
    "for names in subtitle_file_names:\n",
    "    # print(\"data/\"+names)\n",
    "    timeclip=[]\n",
    "    timeclip.append(Path(names).stem)\n",
    "    with open(\"data/\"+names, \"r\") as f:\n",
    "        file = json.load(f)\n",
    "    for clips in file:\n",
    "        timeclip.append(better_clip([clips[\"from\"],clips[\"to\"],clips[\"content\"]]))\n",
    "    total_clip.append(timeclip)\n",
    "\n",
    "\n"
   ]
  },
  {
   "cell_type": "code",
   "execution_count": 123,
   "id": "605aa206",
   "metadata": {},
   "outputs": [
    {
     "name": "stdout",
     "output_type": "stream",
     "text": [
      "data/韩国N号房事件的罪与罚.flv\n",
      "skip: [Errno 2] No such file or directory: '/root/Meme_LLM/src/tmp/各位同学大家好啊_1.jpg'\n",
      "skip: [Errno 2] No such file or directory: '/root/Meme_LLM/src/tmp/各位同学大家好啊_2.jpg'\n",
      "skip: [Errno 2] No such file or directory: '/root/Meme_LLM/src/tmp/各位同学大家好啊_3.jpg'\n",
      "skip: [Errno 2] No such file or directory: '/root/Meme_LLM/src/tmp/各位同学大家好啊_4.jpg'\n",
      "skip: [Errno 2] No such file or directory: '/root/Meme_LLM/src/tmp/各位同学大家好啊_5.jpg'\n",
      "skip: [Errno 2] No such file or directory: '/root/Meme_LLM/src/tmp/各位同学大家好啊_6.jpg'\n",
      "skip: [Errno 2] No such file or directory: '/root/Meme_LLM/src/tmp/各位同学大家好啊_7.jpg'\n",
      "skip: [Errno 2] No such file or directory: '/root/Meme_LLM/src/tmp/各位同学大家好啊_8.jpg'\n",
      "skip: [Errno 2] No such file or directory: '/root/Meme_LLM/src/tmp/各位同学大家好啊_9.jpg'\n",
      "skip: [Errno 2] No such file or directory: '/root/Meme_LLM/src/tmp/各位同学大家好啊_10.jpg'\n",
      "skip: [Errno 2] No such file or directory: '/root/Meme_LLM/src/tmp/各位同学大家好啊_11.jpg'\n",
      "data/韩国N号房事件的罪与罚.flv\n",
      "skip: [Errno 2] No such file or directory: '/root/Meme_LLM/src/tmp/最近韩国有一个非常令人震惊的案件_1.jpg'\n",
      "skip: [Errno 2] No such file or directory: '/root/Meme_LLM/src/tmp/最近韩国有一个非常令人震惊的案件_2.jpg'\n",
      "skip: [Errno 2] No such file or directory: '/root/Meme_LLM/src/tmp/最近韩国有一个非常令人震惊的案件_3.jpg'\n",
      "skip: [Errno 2] No such file or directory: '/root/Meme_LLM/src/tmp/最近韩国有一个非常令人震惊的案件_4.jpg'\n",
      "skip: [Errno 2] No such file or directory: '/root/Meme_LLM/src/tmp/最近韩国有一个非常令人震惊的案件_5.jpg'\n",
      "skip: [Errno 2] No such file or directory: '/root/Meme_LLM/src/tmp/最近韩国有一个非常令人震惊的案件_6.jpg'\n",
      "skip: [Errno 2] No such file or directory: '/root/Meme_LLM/src/tmp/最近韩国有一个非常令人震惊的案件_7.jpg'\n",
      "skip: [Errno 2] No such file or directory: '/root/Meme_LLM/src/tmp/最近韩国有一个非常令人震惊的案件_8.jpg'\n",
      "skip: [Errno 2] No such file or directory: '/root/Meme_LLM/src/tmp/最近韩国有一个非常令人震惊的案件_9.jpg'\n",
      "skip: [Errno 2] No such file or directory: '/root/Meme_LLM/src/tmp/最近韩国有一个非常令人震惊的案件_10.jpg'\n",
      "skip: [Errno 2] No such file or directory: '/root/Meme_LLM/src/tmp/最近韩国有一个非常令人震惊的案件_11.jpg'\n",
      "data/韩国N号房事件的罪与罚.flv\n",
      "skip: [Errno 2] No such file or directory: '/root/Meme_LLM/src/tmp/就是N号房事件_1.jpg'\n",
      "skip: [Errno 2] No such file or directory: '/root/Meme_LLM/src/tmp/就是N号房事件_2.jpg'\n",
      "skip: [Errno 2] No such file or directory: '/root/Meme_LLM/src/tmp/就是N号房事件_3.jpg'\n",
      "skip: [Errno 2] No such file or directory: '/root/Meme_LLM/src/tmp/就是N号房事件_4.jpg'\n",
      "skip: [Errno 2] No such file or directory: '/root/Meme_LLM/src/tmp/就是N号房事件_5.jpg'\n",
      "skip: [Errno 2] No such file or directory: '/root/Meme_LLM/src/tmp/就是N号房事件_6.jpg'\n",
      "skip: [Errno 2] No such file or directory: '/root/Meme_LLM/src/tmp/就是N号房事件_7.jpg'\n",
      "skip: [Errno 2] No such file or directory: '/root/Meme_LLM/src/tmp/就是N号房事件_8.jpg'\n",
      "skip: [Errno 2] No such file or directory: '/root/Meme_LLM/src/tmp/就是N号房事件_9.jpg'\n"
     ]
    },
    {
     "ename": "KeyboardInterrupt",
     "evalue": "",
     "output_type": "error",
     "traceback": [
      "\u001b[0;31m---------------------------------------------------------------------------\u001b[0m",
      "\u001b[0;31mKeyboardInterrupt\u001b[0m                         Traceback (most recent call last)",
      "Cell \u001b[0;32mIn[123], line 7\u001b[0m\n\u001b[1;32m      5\u001b[0m clip \u001b[38;5;241m=\u001b[39m data[i]\n\u001b[1;32m      6\u001b[0m \u001b[38;5;28mprint\u001b[39m(os\u001b[38;5;241m.\u001b[39mpath\u001b[38;5;241m.\u001b[39mjoin(DATA_FOLDER, video_name \u001b[38;5;241m+\u001b[39m \u001b[38;5;124m\"\u001b[39m\u001b[38;5;124m.flv\u001b[39m\u001b[38;5;124m\"\u001b[39m))\n\u001b[0;32m----> 7\u001b[0m \u001b[43msave_frame\u001b[49m\u001b[43m(\u001b[49m\u001b[43mos\u001b[49m\u001b[38;5;241;43m.\u001b[39;49m\u001b[43mpath\u001b[49m\u001b[38;5;241;43m.\u001b[39;49m\u001b[43mjoin\u001b[49m\u001b[43m(\u001b[49m\u001b[43mDATA_FOLDER\u001b[49m\u001b[43m,\u001b[49m\u001b[43m \u001b[49m\u001b[43mvideo_name\u001b[49m\u001b[43m \u001b[49m\u001b[38;5;241;43m+\u001b[39;49m\u001b[43m \u001b[49m\u001b[38;5;124;43m\"\u001b[39;49m\u001b[38;5;124;43m.flv\u001b[39;49m\u001b[38;5;124;43m\"\u001b[39;49m\u001b[43m)\u001b[49m\u001b[43m,\u001b[49m\u001b[43mclip\u001b[49m\u001b[43m[\u001b[49m\u001b[38;5;124;43m\"\u001b[39;49m\u001b[38;5;124;43mcut\u001b[39;49m\u001b[38;5;124;43m\"\u001b[39;49m\u001b[43m]\u001b[49m\u001b[43m,\u001b[49m\u001b[43mPIC_TMP\u001b[49m\u001b[43m,\u001b[49m\u001b[43mclip\u001b[49m\u001b[43m[\u001b[49m\u001b[38;5;124;43m\"\u001b[39;49m\u001b[38;5;124;43mdata\u001b[39;49m\u001b[38;5;124;43m\"\u001b[39;49m\u001b[43m]\u001b[49m\u001b[43m)\u001b[49m\n",
      "Cell \u001b[0;32mIn[122], line 7\u001b[0m, in \u001b[0;36msave_frame\u001b[0;34m(video_path, time_arr, output_path, name)\u001b[0m\n\u001b[1;32m      5\u001b[0m cnt \u001b[38;5;241m+\u001b[39m\u001b[38;5;241m=\u001b[39m \u001b[38;5;241m1\u001b[39m\n\u001b[1;32m      6\u001b[0m \u001b[38;5;28;01mtry\u001b[39;00m: \n\u001b[0;32m----> 7\u001b[0m     frame \u001b[38;5;241m=\u001b[39m \u001b[43mclip\u001b[49m\u001b[38;5;241;43m.\u001b[39;49m\u001b[43mget_frame\u001b[49m\u001b[43m(\u001b[49m\u001b[43mtime\u001b[49m\u001b[43m)\u001b[49m\n\u001b[1;32m      8\u001b[0m     \u001b[38;5;28;01mfrom\u001b[39;00m \u001b[38;5;21;01mPIL\u001b[39;00m \u001b[38;5;28;01mimport\u001b[39;00m Image\n\u001b[1;32m      9\u001b[0m     image \u001b[38;5;241m=\u001b[39m Image\u001b[38;5;241m.\u001b[39mfromarray(frame)\n",
      "File \u001b[0;32m/usr/local/lib/python3.10/dist-packages/decorator.py:232\u001b[0m, in \u001b[0;36mdecorate.<locals>.fun\u001b[0;34m(*args, **kw)\u001b[0m\n\u001b[1;32m    230\u001b[0m \u001b[38;5;28;01mif\u001b[39;00m \u001b[38;5;129;01mnot\u001b[39;00m kwsyntax:\n\u001b[1;32m    231\u001b[0m     args, kw \u001b[38;5;241m=\u001b[39m fix(args, kw, sig)\n\u001b[0;32m--> 232\u001b[0m \u001b[38;5;28;01mreturn\u001b[39;00m \u001b[43mcaller\u001b[49m\u001b[43m(\u001b[49m\u001b[43mfunc\u001b[49m\u001b[43m,\u001b[49m\u001b[43m \u001b[49m\u001b[38;5;241;43m*\u001b[39;49m\u001b[43m(\u001b[49m\u001b[43mextras\u001b[49m\u001b[43m \u001b[49m\u001b[38;5;241;43m+\u001b[39;49m\u001b[43m \u001b[49m\u001b[43margs\u001b[49m\u001b[43m)\u001b[49m\u001b[43m,\u001b[49m\u001b[43m \u001b[49m\u001b[38;5;241;43m*\u001b[39;49m\u001b[38;5;241;43m*\u001b[39;49m\u001b[43mkw\u001b[49m\u001b[43m)\u001b[49m\n",
      "File \u001b[0;32m/usr/local/lib/python3.10/dist-packages/moviepy/decorators.py:102\u001b[0m, in \u001b[0;36mpreprocess_args.<locals>.decor.<locals>.wrapper\u001b[0;34m(func, *args, **kwargs)\u001b[0m\n\u001b[1;32m     90\u001b[0m new_args \u001b[38;5;241m=\u001b[39m [\n\u001b[1;32m     91\u001b[0m     (\n\u001b[1;32m     92\u001b[0m         preprocess_func(arg)\n\u001b[0;32m   (...)\u001b[0m\n\u001b[1;32m     96\u001b[0m     \u001b[38;5;28;01mfor\u001b[39;00m (arg, name) \u001b[38;5;129;01min\u001b[39;00m \u001b[38;5;28mzip\u001b[39m(args, argnames)\n\u001b[1;32m     97\u001b[0m ]\n\u001b[1;32m     98\u001b[0m new_kwargs \u001b[38;5;241m=\u001b[39m {\n\u001b[1;32m     99\u001b[0m     kwarg: preprocess_func(value) \u001b[38;5;28;01mif\u001b[39;00m kwarg \u001b[38;5;129;01min\u001b[39;00m varnames \u001b[38;5;28;01melse\u001b[39;00m value\n\u001b[1;32m    100\u001b[0m     \u001b[38;5;28;01mfor\u001b[39;00m (kwarg, value) \u001b[38;5;129;01min\u001b[39;00m kwargs\u001b[38;5;241m.\u001b[39mitems()\n\u001b[1;32m    101\u001b[0m }\n\u001b[0;32m--> 102\u001b[0m \u001b[38;5;28;01mreturn\u001b[39;00m \u001b[43mfunc\u001b[49m\u001b[43m(\u001b[49m\u001b[38;5;241;43m*\u001b[39;49m\u001b[43mnew_args\u001b[49m\u001b[43m,\u001b[49m\u001b[43m \u001b[49m\u001b[38;5;241;43m*\u001b[39;49m\u001b[38;5;241;43m*\u001b[39;49m\u001b[43mnew_kwargs\u001b[49m\u001b[43m)\u001b[49m\n",
      "File \u001b[0;32m/usr/local/lib/python3.10/dist-packages/moviepy/Clip.py:87\u001b[0m, in \u001b[0;36mClip.get_frame\u001b[0;34m(self, t)\u001b[0m\n\u001b[1;32m     85\u001b[0m         \u001b[38;5;28;01mreturn\u001b[39;00m frame\n\u001b[1;32m     86\u001b[0m \u001b[38;5;28;01melse\u001b[39;00m:\n\u001b[0;32m---> 87\u001b[0m     \u001b[38;5;28;01mreturn\u001b[39;00m \u001b[38;5;28;43mself\u001b[39;49m\u001b[38;5;241;43m.\u001b[39;49m\u001b[43mframe_function\u001b[49m\u001b[43m(\u001b[49m\u001b[43mt\u001b[49m\u001b[43m)\u001b[49m\n",
      "File \u001b[0;32m/usr/local/lib/python3.10/dist-packages/moviepy/video/io/VideoFileClip.py:140\u001b[0m, in \u001b[0;36mVideoFileClip.__init__.<locals>.<lambda>\u001b[0;34m(t)\u001b[0m\n\u001b[1;32m    137\u001b[0m     \u001b[38;5;28mself\u001b[39m\u001b[38;5;241m.\u001b[39mmask\u001b[38;5;241m.\u001b[39mfps \u001b[38;5;241m=\u001b[39m \u001b[38;5;28mself\u001b[39m\u001b[38;5;241m.\u001b[39mfps\n\u001b[1;32m    139\u001b[0m \u001b[38;5;28;01melse\u001b[39;00m:\n\u001b[0;32m--> 140\u001b[0m     \u001b[38;5;28mself\u001b[39m\u001b[38;5;241m.\u001b[39mframe_function \u001b[38;5;241m=\u001b[39m \u001b[38;5;28;01mlambda\u001b[39;00m t: \u001b[38;5;28;43mself\u001b[39;49m\u001b[38;5;241;43m.\u001b[39;49m\u001b[43mreader\u001b[49m\u001b[38;5;241;43m.\u001b[39;49m\u001b[43mget_frame\u001b[49m\u001b[43m(\u001b[49m\u001b[43mt\u001b[49m\u001b[43m)\u001b[49m\n\u001b[1;32m    142\u001b[0m \u001b[38;5;66;03m# Make a reader for the audio, if any.\u001b[39;00m\n\u001b[1;32m    143\u001b[0m \u001b[38;5;28;01mif\u001b[39;00m audio \u001b[38;5;129;01mand\u001b[39;00m \u001b[38;5;28mself\u001b[39m\u001b[38;5;241m.\u001b[39mreader\u001b[38;5;241m.\u001b[39minfos[\u001b[38;5;124m\"\u001b[39m\u001b[38;5;124maudio_found\u001b[39m\u001b[38;5;124m\"\u001b[39m]:\n",
      "File \u001b[0;32m/usr/local/lib/python3.10/dist-packages/moviepy/video/io/ffmpeg_reader.py:260\u001b[0m, in \u001b[0;36mFFMPEG_VideoReader.get_frame\u001b[0;34m(self, t)\u001b[0m\n\u001b[1;32m    257\u001b[0m     \u001b[38;5;28;01mreturn\u001b[39;00m \u001b[38;5;28mself\u001b[39m\u001b[38;5;241m.\u001b[39mlast_read\n\u001b[1;32m    258\u001b[0m \u001b[38;5;28;01melse\u001b[39;00m:\n\u001b[1;32m    259\u001b[0m     \u001b[38;5;66;03m# If pos == self.pos + 1, this line has no effect\u001b[39;00m\n\u001b[0;32m--> 260\u001b[0m     \u001b[38;5;28;43mself\u001b[39;49m\u001b[38;5;241;43m.\u001b[39;49m\u001b[43mskip_frames\u001b[49m\u001b[43m(\u001b[49m\u001b[43mpos\u001b[49m\u001b[43m \u001b[49m\u001b[38;5;241;43m-\u001b[39;49m\u001b[43m \u001b[49m\u001b[38;5;28;43mself\u001b[39;49m\u001b[38;5;241;43m.\u001b[39;49m\u001b[43mpos\u001b[49m\u001b[43m \u001b[49m\u001b[38;5;241;43m-\u001b[39;49m\u001b[43m \u001b[49m\u001b[38;5;241;43m1\u001b[39;49m\u001b[43m)\u001b[49m\n\u001b[1;32m    261\u001b[0m     result \u001b[38;5;241m=\u001b[39m \u001b[38;5;28mself\u001b[39m\u001b[38;5;241m.\u001b[39mread_frame()\n\u001b[1;32m    262\u001b[0m     \u001b[38;5;28;01mreturn\u001b[39;00m result\n",
      "File \u001b[0;32m/usr/local/lib/python3.10/dist-packages/moviepy/video/io/ffmpeg_reader.py:173\u001b[0m, in \u001b[0;36mFFMPEG_VideoReader.skip_frames\u001b[0;34m(self, n)\u001b[0m\n\u001b[1;32m    171\u001b[0m w, h \u001b[38;5;241m=\u001b[39m \u001b[38;5;28mself\u001b[39m\u001b[38;5;241m.\u001b[39msize\n\u001b[1;32m    172\u001b[0m \u001b[38;5;28;01mfor\u001b[39;00m i \u001b[38;5;129;01min\u001b[39;00m \u001b[38;5;28mrange\u001b[39m(n):\n\u001b[0;32m--> 173\u001b[0m     \u001b[38;5;28;43mself\u001b[39;49m\u001b[38;5;241;43m.\u001b[39;49m\u001b[43mproc\u001b[49m\u001b[38;5;241;43m.\u001b[39;49m\u001b[43mstdout\u001b[49m\u001b[38;5;241;43m.\u001b[39;49m\u001b[43mread\u001b[49m\u001b[43m(\u001b[49m\u001b[38;5;28;43mself\u001b[39;49m\u001b[38;5;241;43m.\u001b[39;49m\u001b[43mdepth\u001b[49m\u001b[43m \u001b[49m\u001b[38;5;241;43m*\u001b[39;49m\u001b[43m \u001b[49m\u001b[43mw\u001b[49m\u001b[43m \u001b[49m\u001b[38;5;241;43m*\u001b[39;49m\u001b[43m \u001b[49m\u001b[43mh\u001b[49m\u001b[43m)\u001b[49m\n\u001b[1;32m    175\u001b[0m     \u001b[38;5;66;03m# self.proc.stdout.flush()\u001b[39;00m\n\u001b[1;32m    176\u001b[0m \u001b[38;5;28mself\u001b[39m\u001b[38;5;241m.\u001b[39mpos \u001b[38;5;241m+\u001b[39m\u001b[38;5;241m=\u001b[39m n\n",
      "\u001b[0;31mKeyboardInterrupt\u001b[0m: "
     ]
    }
   ],
   "source": [
    "###Get tmp pictures###\n",
    "for data in total_clip:\n",
    "    video_name = data[0]\n",
    "    for i in range(1,len(data)):\n",
    "        clip = data[i]\n",
    "        print(os.path.join(DATA_FOLDER, video_name + \".flv\"))\n",
    "        save_frame(os.path.join(DATA_FOLDER, video_name + \".flv\"),clip[\"cut\"],PIC_TMP,clip[\"data\"])\n",
    "    "
   ]
  }
 ],
 "metadata": {
  "kernelspec": {
   "display_name": "Python 3",
   "language": "python",
   "name": "python3"
  },
  "language_info": {
   "codemirror_mode": {
    "name": "ipython",
    "version": 3
   },
   "file_extension": ".py",
   "mimetype": "text/x-python",
   "name": "python",
   "nbconvert_exporter": "python",
   "pygments_lexer": "ipython3",
   "version": "3.10.12"
  }
 },
 "nbformat": 4,
 "nbformat_minor": 5
}
